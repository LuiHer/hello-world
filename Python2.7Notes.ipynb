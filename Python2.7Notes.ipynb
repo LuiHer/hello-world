{
 "cells": [
  {
   "cell_type": "code",
   "execution_count": 1,
   "metadata": {
    "collapsed": true
   },
   "outputs": [
    {
     "data": {
      "text/plain": [
       "'\\nFalse      class      finally    is         return\\nNone       continue   for        lambda     try\\nTrue       def        from       nonlocal   while\\nand        del        global     not        with\\nas         elif       if         or         yield\\nassert     else       import     pass\\nbreak      except     in         raise\\n'"
      ]
     },
     "execution_count": 1,
     "metadata": {},
     "output_type": "execute_result"
    }
   ],
   "source": [
    "#Reserved words in python:\n",
    "'''\n",
    "False      class      finally    is         return\n",
    "None       continue   for        lambda     try\n",
    "True       def        from       nonlocal   while\n",
    "and        del        global     not        with\n",
    "as         elif       if         or         yield\n",
    "assert     else       import     pass\n",
    "break      except     in         raise\n",
    "'''"
   ]
  },
  {
   "cell_type": "code",
   "execution_count": null,
   "metadata": {
    "collapsed": true
   },
   "outputs": [],
   "source": [
    "#List Manipulations:\n",
    "#append: Appends object at end.\n",
    "\n",
    "x = [1, 2, 3]\n",
    "x.append([4, 5])\n",
    "print (x)\n",
    "#gives you: [1, 2, 3, [4, 5]]\n",
    "\n",
    "#extend: Extends list by appending elements from the iterable.\n",
    "\n",
    "x = [1, 2, 3]\n",
    "x.extend([4, 5])\n",
    "#print (x)"
   ]
  },
  {
   "cell_type": "code",
   "execution_count": null,
   "metadata": {
    "collapsed": true
   },
   "outputs": [],
   "source": [
    "#Working with files \n",
    "\n",
    "#opening files\n",
    "f = open(\"crime_rates.csv\", \"r\")\n",
    "data = f.read()\n",
    "\n",
    "#splitting\n",
    "sample = \"john,plastic,joe\"\n",
    "split_list = sample.split(\",\")\n",
    "# split_list is a list of _strings_: [\"john\", \"plastic\", \"joe\"]\n",
    "\n"
   ]
  },
  {
   "cell_type": "code",
   "execution_count": null,
   "metadata": {
    "collapsed": true
   },
   "outputs": [],
   "source": []
  }
 ],
 "metadata": {
  "kernelspec": {
   "display_name": "Python 2",
   "language": "python",
   "name": "python2"
  },
  "language_info": {
   "codemirror_mode": {
    "name": "ipython",
    "version": 2
   },
   "file_extension": ".py",
   "mimetype": "text/x-python",
   "name": "python",
   "nbconvert_exporter": "python",
   "pygments_lexer": "ipython2",
   "version": "2.7.12"
  }
 },
 "nbformat": 4,
 "nbformat_minor": 1
}
